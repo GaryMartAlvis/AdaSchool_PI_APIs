{
 "cells": [
  {
   "cell_type": "markdown",
   "metadata": {},
   "source": [
    "# Parte 4: Procesando información en bruto\n",
    "\n",
    "Imagina que no tuvieramos el acceso fácil de estos datos a través de la librería y tuvieramos que descargar los datos usando requests.\n",
    "\n",
    "Los datos son accesibles en esta dirección\n",
    "\n",
    "1. Realiza un GET request para descargarlos y escribe la respuesta como un archivo de texto plano con extensión csv (no necesitas pandas para esto, sólo manipulación de archivos nativa de Python).\n",
    "2. Agrupa el código para esto en una función reutilizable que reciba como argumento la url.\n",
    "***"
   ]
  },
  {
   "cell_type": "code",
   "execution_count": 2,
   "metadata": {},
   "outputs": [],
   "source": [
    "# Importar libreria request para conexion APIs\n",
    "import requests"
   ]
  },
  {
   "cell_type": "code",
   "execution_count": 3,
   "metadata": {},
   "outputs": [],
   "source": [
    "# URL del archivo CSV\n",
    "url = \"https://huggingface.co/datasets/mstz/heart_failure/raw/main/heart_failure_clinical_records_dataset.csv\"\n",
    "\n",
    "# Funcion de conexion de APIs\n",
    "def download_csv_from_url(url, filename):\n",
    "    response = requests.get(url)\n",
    "    if response.status_code == 200:\n",
    "        with open(filename, 'wb') as f:\n",
    "            f.write(response.content)\n",
    "        print(f\"Archivo guardado como {filename}\")\n",
    "    else:\n",
    "        print(f\"No se pudo descargar el archivo de {url}\")"
   ]
  },
  {
   "cell_type": "code",
   "execution_count": 4,
   "metadata": {},
   "outputs": [
    {
     "name": "stdout",
     "output_type": "stream",
     "text": [
      "Archivo guardado como heart_failure_clinical_records_dataset.csv\n"
     ]
    }
   ],
   "source": [
    "# Nombre del archivo de salida\n",
    "filename = \"heart_failure_clinical_records_dataset.csv\"\n",
    "\n",
    "# Llamar a la función para descargar el archivo CSV\n",
    "download_csv_from_url(url, filename)"
   ]
  }
 ],
 "metadata": {
  "kernelspec": {
   "display_name": "Python 3",
   "language": "python",
   "name": "python3"
  },
  "language_info": {
   "codemirror_mode": {
    "name": "ipython",
    "version": 3
   },
   "file_extension": ".py",
   "mimetype": "text/x-python",
   "name": "python",
   "nbconvert_exporter": "python",
   "pygments_lexer": "ipython3",
   "version": "3.11.5"
  }
 },
 "nbformat": 4,
 "nbformat_minor": 2
}
